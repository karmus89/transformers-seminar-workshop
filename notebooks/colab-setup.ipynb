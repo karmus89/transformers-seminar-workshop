{
 "cells": [
  {
   "attachments": {},
   "cell_type": "markdown",
   "metadata": {},
   "source": [
    "# Colab setup\n",
    "\n",
    "Here we will download the following things to prepare the notebook for stand-alone Google Colab execution:\n",
    "- Data\n",
    "    - Persisted to `./data`\n",
    "    - Contains raw data (`./data/medical-nlp/mtsamples.csv`)\n",
    "    - Contains processed training dataset (`./data/train.csv`)\n",
    "    - Contains processed validation dataset (`./data/validation.csv`)\n",
    "    - Will be downloaded from the related [github repository](https://github.com/karmus89/transformers-seminar-workshop/tree/main/data)\n",
    "    - Please inspect the data for contents and column names\n",
    "- Models\n",
    "    - Persisted to `./models`\n",
    "    - Fine-tuned `bert-base-uncased` for MLM (`./models/bert-base-uncased-finetuned`)\n",
    "    - Fine-tuned `bert-base-uncased` for MLM with a trained classification head (`./models/classifier-fine`)\n",
    "    - Pre-trained `bert-base-uncased` for MLM with a trained classification head (`./models/classifier-pre`)\n",
    "    - These can be used instead of training in Colab\n",
    "- Libraries\n",
    "    - Hugging Face `transformers` library"
   ]
  },
  {
   "cell_type": "code",
   "execution_count": null,
   "metadata": {},
   "outputs": [],
   "source": [
    "%%bash\n",
    "\n",
    "# Download data from the repository\n",
    "git clone https://github.com/karmus89/transformers-seminar-workshop.git \n",
    "cp -R transformers-seminar-workshop/data data\n",
    "rm -rf transformers-seminar-workshop\n",
    "pwd & ls -ahl\n",
    "\n",
    "# Download models\n",
    "rm -rf models\n",
    "mkdir models\n",
    "cd models\n",
    "git clone https://huggingface.co/karmus89/bert-base-uncased-finetuned\n",
    "git clone https://huggingface.co/karmus89/classifier-fine\n",
    "git clone https://huggingface.co/karmus89/classifier-pre\n",
    "pwd & ls -ahl\n",
    "\n",
    "# Install libs\n",
    "pip install transformers==4.28.1 -q"
   ]
  }
 ],
 "metadata": {
  "kernelspec": {
   "display_name": "azure-openai-poc",
   "language": "python",
   "name": "python3"
  },
  "language_info": {
   "codemirror_mode": {
    "name": "ipython",
    "version": 3
   },
   "file_extension": ".py",
   "mimetype": "text/x-python",
   "name": "python",
   "nbconvert_exporter": "python",
   "pygments_lexer": "ipython3",
   "version": "3.9.16"
  }
 },
 "nbformat": 4,
 "nbformat_minor": 2
}
