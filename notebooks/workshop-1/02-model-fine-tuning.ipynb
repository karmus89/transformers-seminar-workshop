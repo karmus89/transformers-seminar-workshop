{
 "cells": [
  {
   "attachments": {},
   "cell_type": "markdown",
   "metadata": {},
   "source": [
    "# Fine-tuning a pre-trained BERT model with MLM\n",
    "\n",
    "In this notebook, we will walk through the process of fine-tuning a pre-trained BERT model on a medical text dataset using masked language modeling (MLM), a popular technique for training BERT models on a range of natural language processing (NLP) tasks.\n",
    "\n",
    "We will start by loading and preprocessing the medical text dataset using the Pandas and NLTK libraries. Next, we will use the Hugging Face Transformers library to load a pre-trained BERT model and tokenizer, and encode the preprocessed data for input to the model. We will then use masked language modeling to randomly mask a subset of the input tokens during each training epoch, which helps the model to learn more effectively from the input data.\n",
    "\n",
    "Finally, we will set up the fine-tuning process using PyTorch's data loading utilities and the Hugging Face Trainer class, and train the model on the preprocessed medical text data. We will save the fine-tuned model for later use."
   ]
  },
  {
   "attachments": {},
   "cell_type": "markdown",
   "metadata": {},
   "source": [
    "## Huggingface model repository\n",
    "\n",
    "The [Hugging Face model repository](https://huggingface.co/) is a collection of pre-trained models for natural language processing (NLP) tasks, including language modeling, text classification, and named entity recognition. It is maintained by the Hugging Face company, which specializes in developing open-source software for NLP and machine learning.\n",
    "\n",
    "The repository includes a wide range of pre-trained models, including popular models like BERT, GPT-2, and RoBERTa, as well as many other models for specific NLP tasks and languages. The models are typically pre-trained on large amounts of text data using unsupervised learning techniques, and can be fine-tuned on specific NLP tasks using transfer learning.\n",
    "\n",
    "The models are available for download and use in a variety of formats, including TensorFlow, PyTorch, and ONNX, and can be easily integrated with other NLP tools and libraries. The Hugging Face model repository is a valuable resource for NLP practitioners, researchers, and enthusiasts looking to build powerful and effective NLP models."
   ]
  },
  {
   "attachments": {},
   "cell_type": "markdown",
   "metadata": {},
   "source": [
    "## BERT\n",
    "\n",
    "BERT (Bidirectional Encoder Representations from Transformers) is a pre-trained deep learning model for natural language processing (NLP) tasks, developed by researchers at Google. BERT is based on the transformer architecture, which is a deep neural network architecture that has been shown to be effective at capturing long-range dependencies in sequences of data, such as text.\n",
    "\n",
    "One of the key features of BERT is its ability to pre-train on large amounts of text data using unsupervised learning techniques, which allows it to learn a rich representation of natural language that can be fine-tuned on a wide range of NLP tasks. During pre-training, BERT is trained on a masked language modeling task, where it is tasked with predicting the masked tokens in a given sequence of text.  This process allows BERT to learn to effectively represent the context of each word in a sentence, and to capture complex relationships between words in a text.\n",
    "\n",
    "BERT tokenization is the process of converting raw text data into numerical sequences that can be input to the BERT model. BERT uses a subword tokenization approach called WordPiece, which is similar to byte-pair encoding (BPE). The WordPiece tokenizer breaks words down into subword units, which can include full words, prefixes, or suffixes. The tokenizer then assigns each subword a unique token ID, which is used to represent the subword in the input sequence.\n",
    "\n",
    "After pre-training, BERT can be fine-tuned on specific NLP tasks, such as text classification, question-answering, and named entity recognition, using transfer learning. This fine-tuning process involves training the model on a smaller labeled dataset for a specific task, which allows the model to adapt its pre-trained weights to the specific task and achieve state-of-the-art performance.\n",
    "\n",
    "Overall, BERT is a powerful and versatile NLP model that has been shown to achieve state-of-the-art performance on a wide range of NLP tasks, and is widely used in industry and academia for various NLP applications."
   ]
  },
  {
   "attachments": {},
   "cell_type": "markdown",
   "metadata": {},
   "source": [
    "## Reserved tokens\n",
    "\n",
    "BERT uses several reserved tokens that have special meanings and are used during tokenization and input encoding. These reserved tokens include:\n",
    "\n",
    "1. ``[CLS]``: This token is added to the beginning of each input sequence and is used to represent the start of a 1.sentence.\n",
    "1. ``[SEP]``: This token is used to separate sentences or segments of text within an input sequence.\n",
    "1. ``[MASK]``: This token is used to replace a randomly selected subset of tokens in the input sequence during masked 1.language modeling.\n",
    "1. ``[PAD]``: This token is used to pad the input sequence to ensure that all sequences have the same length.\n",
    "1. ``[UNK]``: This token is used to represent out-of-vocabulary (OOV) words that are not present in the vocabulary used 1.during tokenization.\n",
    "1. ``[unused0]`` to ``[unused99]``: These tokens are reserved for custom use and can be used by researchers or developers to encode special information or custom features in the input sequence.\n",
    "\n",
    "These reserved tokens are an important part of BERT's input encoding scheme and help to ensure that the model is able to effectively process and learn from input sequences of varying lengths and structures."
   ]
  },
  {
   "attachments": {},
   "cell_type": "markdown",
   "metadata": {},
   "source": [
    "## Loading the data"
   ]
  },
  {
   "attachments": {},
   "cell_type": "markdown",
   "metadata": {},
   "source": [
    "### Note on preprocessing and pre-trained models\n",
    "\n",
    "When using a pre-trained Huggingface BERT model, you typically do not need to perform extensive preprocessing of the input text. This is because the model's pre-trained tokenizer has already been trained on large amounts of text data and has learned to tokenize and normalize text effectively.\n",
    "\n",
    "However, there are still some basic preprocessing steps you may want to perform, such as lowercasing the text and removing any special characters or symbols that may cause issues with the tokenizer. These steps can help ensure that the text is processed efficiently by the tokenizer and that the resulting token sequences are meaningful to the model.\n",
    "\n",
    "In addition to basic preprocessing, you may also want to adjust the maximum sequence length parameter of the tokenizer to ensure that your input text is appropriately truncated or padded to match the requirements of the model.\n",
    "\n",
    "__Overall, the amount of preprocessing required for using a pre-trained Huggingface BERT model is generally minimal, and you should focus more on fine-tuning the model on your specific task and optimizing hyperparameters to achieve the best performance. Information about BERT's text preprocessing and tokenization can found [in their Github repository's documentation](https://github.com/google-research/bert#tokenization).__\n",
    "\n",
    "For now, we will use our preprocessed data. \n",
    "\n",
    "First, we load the preprocessed data into our Jupyter notebook using Pandas. We have two datasets: one for training and one for validation. Both datasets are stored as CSV files, and we use the pd.read_csv() function to load them into data frames. The index_col=0 parameter specifies that the first column of the CSV file should be used as the index of the data frame."
   ]
  },
  {
   "cell_type": "code",
   "execution_count": 2,
   "metadata": {},
   "outputs": [],
   "source": [
    "import pandas as pd\n",
    "\n",
    "df_train = pd.read_csv(\"../../data/train.csv\", index_col=0)\n",
    "df_validation = pd.read_csv(\"../../data/validation.csv\", index_col=0)\n"
   ]
  },
  {
   "attachments": {},
   "cell_type": "markdown",
   "metadata": {},
   "source": [
    "## Loading the model and tokenizer\n",
    "\n",
    "In the next step, we load the pre-trained BERT model and tokenizer using the Hugging Face Transformers library. We use the BertTokenizer.from_pretrained() function to load the pre-trained tokenizer, which has been trained on a large corpus of text data and is capable of encoding text into numerical sequences that the BERT model can understand.\n",
    "\n",
    "Next, we use the BertForMaskedLM.from_pretrained() function to load the pre-trained BERT model for masked language modeling. This model has been trained to predict the masked words in a given text sequence, which makes it well-suited for a range of NLP tasks, including text generation and sentiment analysis.\n",
    "\n",
    "By using a pre-trained model and tokenizer, we can take advantage of the model's prior knowledge of natural language and reduce the amount of time and effort required to train an effective NLP model from scratch. Once the model and tokenizer are loaded, we can start fine-tuning the BERT model on our preprocessed medical text data."
   ]
  },
  {
   "cell_type": "code",
   "execution_count": 3,
   "metadata": {},
   "outputs": [
    {
     "name": "stderr",
     "output_type": "stream",
     "text": [
      "Some weights of the model checkpoint at bert-base-uncased were not used when initializing BertForMaskedLM: ['cls.seq_relationship.bias', 'cls.seq_relationship.weight']\n",
      "- This IS expected if you are initializing BertForMaskedLM from the checkpoint of a model trained on another task or with another architecture (e.g. initializing a BertForSequenceClassification model from a BertForPreTraining model).\n",
      "- This IS NOT expected if you are initializing BertForMaskedLM from the checkpoint of a model that you expect to be exactly identical (initializing a BertForSequenceClassification model from a BertForSequenceClassification model).\n"
     ]
    }
   ],
   "source": [
    "from transformers import BertTokenizer, BertForMaskedLM\n",
    "\n",
    "tokenizer = BertTokenizer.from_pretrained(\"bert-base-uncased\")\n",
    "model = BertForMaskedLM.from_pretrained(\"bert-base-uncased\")\n"
   ]
  },
  {
   "attachments": {},
   "cell_type": "markdown",
   "metadata": {},
   "source": [
    "## Creating the input data\n",
    "\n",
    "Now that we have our data, tokenizer and model, its time to prepare the data for our task of masked language modelling.\n",
    "\n",
    "We use the pre-trained tokenizer to encode the preprocessed medical text data into numerical sequences that can be input to the BERT model. We use the `tokenizer` to tokenize the text data and convert it into PyTorch tensors that the BERT model can process. Here's a brief description of each argument:\n",
    "- `return_tensors=\"pt\"`: the function should return PyTorch tensors instead of regular Python lists or arrays\n",
    "- `max_length=512`: specifies the maximum length of the encoded sequences\n",
    "- `truncation=True`: any sequences longer than the maximum length should be truncated\n",
    "- `padding=\"max_length\"`: add padding tokens to the end of each sequence to make sure that all the sequences have the same length\n"
   ]
  },
  {
   "cell_type": "code",
   "execution_count": 4,
   "metadata": {},
   "outputs": [],
   "source": [
    "x_train = tokenizer(\n",
    "    df_train[\"transcription\"].values.tolist(),\n",
    "    return_tensors=\"pt\",\n",
    "    max_length=512,\n",
    "    truncation=True,\n",
    "    padding=\"max_length\",\n",
    ")\n"
   ]
  },
  {
   "attachments": {},
   "cell_type": "markdown",
   "metadata": {},
   "source": [
    "Next we create a ``labels`` tensor by cloning the ``input_ids`` tensor, which contains the encoded sequence data. This tensor will be used to train the BERT model to predict the masked tokens in the input sequences."
   ]
  },
  {
   "cell_type": "code",
   "execution_count": 5,
   "metadata": {},
   "outputs": [],
   "source": [
    "x_train[\"labels\"] = x_train.input_ids.detach().clone()\n"
   ]
  },
  {
   "attachments": {},
   "cell_type": "markdown",
   "metadata": {},
   "source": [
    "Then we generate a mask array to be used during the fine-tuning process. The mask array is used to randomly mask a certain percentage of the input tokens during each training epoch - hence the name masked language modelling.\n",
    "\n",
    "The masking tensor is created by performing element-wise multiplication on several conditions. The first condition, ``(rand < mask_probability)``, randomly selects a certain percentage of the tokens to be masked. The following conditions exclude masking of special reserved tokens."
   ]
  },
  {
   "cell_type": "code",
   "execution_count": 6,
   "metadata": {},
   "outputs": [],
   "source": [
    "import torch\n",
    "\n",
    "mask_propability = 0.15\n",
    "rand = torch.rand(x_train.input_ids.shape)\n",
    "mask_arr = (\n",
    "    (rand < mask_propability)\n",
    "    * (x_train.input_ids != 101)  # Don't mask CLS\n",
    "    * (x_train.input_ids != 102)  # Don't mask SEP\n",
    "    * (x_train.input_ids != 0)  # Dont' mask PAD\n",
    ")\n"
   ]
  },
  {
   "attachments": {},
   "cell_type": "markdown",
   "metadata": {},
   "source": [
    "Let's visualize the masking array to better understand what happens above."
   ]
  },
  {
   "cell_type": "code",
   "execution_count": 7,
   "metadata": {},
   "outputs": [
    {
     "data": {
      "text/plain": [
       "<Axes: >"
      ]
     },
     "execution_count": 7,
     "metadata": {},
     "output_type": "execute_result"
    },
    {
     "data": {
      "image/png": "[encoded data removed]",
      "text/plain": [
       "<Figure size 640x480 with 1 Axes>"
      ]
     },
     "metadata": {},
     "output_type": "display_data"
    }
   ],
   "source": [
    "import seaborn as sns\n",
    "\n",
    "sns.heatmap(mask_arr.numpy(), cbar=False, xticklabels=[], yticklabels=[])\n"
   ]
  },
  {
   "attachments": {},
   "cell_type": "markdown",
   "metadata": {},
   "source": [
    "Each line of pixels corresponds to a sequence in the mask. White pixels indicate tokens that are to be masked. Black pixels indicate tokens that are to be left unmasked. \n",
    "\n",
    "By excluding these tokens from being masked, we ensure that the model does not learn to predict these special tokens, which could negatively impact the performance of the model. Once the mask array is generated, it can be used during the fine-tuning process to randomly mask input tokens during each training epoch."
   ]
  },
  {
   "attachments": {},
   "cell_type": "markdown",
   "metadata": {},
   "source": [
    "Next, we apply the mask array to the input sequence data in ``x_train`` by replacing a randomly selected subset of tokens with the ``[MASK]`` token. This is a common technique used in masked language modeling to train the BERT model to predict the masked tokens."
   ]
  },
  {
   "cell_type": "code",
   "execution_count": 8,
   "metadata": {},
   "outputs": [],
   "source": [
    "for i in range(x_train.input_ids.shape[0]):\n",
    "    x_train.input_ids[i, torch.flatten(mask_arr[i].nonzero()).tolist()] = 103  # MASK\n"
   ]
  },
  {
   "attachments": {},
   "cell_type": "markdown",
   "metadata": {},
   "source": [
    "By randomly masking a subset of the input tokens during each training epoch, the BERT model is forced to learn to predict the masked tokens based on the context of the surrounding tokens, rather than simply memorizing the input sequence. This helps to improve the generalization performance of the model and make it more effective at a range of NLP tasks."
   ]
  },
  {
   "attachments": {},
   "cell_type": "markdown",
   "metadata": {},
   "source": [
    "## Fine-tuning the pre-trained model\n",
    "\n",
    "The last step is then to fine-tune the pre-trained BERT model with our transcription data."
   ]
  },
  {
   "attachments": {},
   "cell_type": "markdown",
   "metadata": {},
   "source": [
    "First, we define a custom ``TranscriptionDataset`` class that can be used to load and preprocess the input sequence data for the BERT model during the fine-tuning process. By defining a custom dataset class, we can easily load and preprocess the input sequence data during the fine-tuning process and integrate it with PyTorch's data loading utilities.\n",
    "\n",
    "The samples of the dataset must conform to what the BERT model expects. Let's check what a tokenized input sample looks like."
   ]
  },
  {
   "cell_type": "code",
   "execution_count": 9,
   "metadata": {},
   "outputs": [
    {
     "name": "stdout",
     "output_type": "stream",
     "text": [
      "Input type: <class 'transformers.tokenization_utils_base.BatchEncoding'>\n",
      "Input keys: dict_keys(['input_ids', 'token_type_ids', 'attention_mask', 'labels'])\n"
     ]
    },
    {
     "data": {
      "text/plain": [
       "{'input_ids': tensor([[  101,  3653, 25918,  ...,  1014,  2423,   102],\n",
       "        [  101, 11360, 27011,  ...,     0,     0,     0],\n",
       "        [  101,   103, 27011,  ...,     0,     0,     0],\n",
       "        ...,\n",
       "        [  101,   103, 25918,  ...,     0,     0,     0],\n",
       "        [  101,   103,  7709,  ..., 22316, 20118,   102],\n",
       "        [  101,  2708, 12087,  ...,   103, 25416,   102]]), 'token_type_ids': tensor([[0, 0, 0,  ..., 0, 0, 0],\n",
       "        [0, 0, 0,  ..., 0, 0, 0],\n",
       "        [0, 0, 0,  ..., 0, 0, 0],\n",
       "        ...,\n",
       "        [0, 0, 0,  ..., 0, 0, 0],\n",
       "        [0, 0, 0,  ..., 0, 0, 0],\n",
       "        [0, 0, 0,  ..., 0, 0, 0]]), 'attention_mask': tensor([[1, 1, 1,  ..., 1, 1, 1],\n",
       "        [1, 1, 1,  ..., 0, 0, 0],\n",
       "        [1, 1, 1,  ..., 0, 0, 0],\n",
       "        ...,\n",
       "        [1, 1, 1,  ..., 0, 0, 0],\n",
       "        [1, 1, 1,  ..., 1, 1, 1],\n",
       "        [1, 1, 1,  ..., 1, 1, 1]]), 'labels': tensor([[  101,  3653, 25918,  ...,  1014,  2423,   102],\n",
       "        [  101, 11360, 27011,  ...,     0,     0,     0],\n",
       "        [  101, 11360, 27011,  ...,     0,     0,     0],\n",
       "        ...,\n",
       "        [  101,  3653, 25918,  ...,     0,     0,     0],\n",
       "        [  101, 12160,  7709,  ..., 22316, 20118,   102],\n",
       "        [  101,  2708, 12087,  ...,  3438, 25416,   102]])}"
      ]
     },
     "execution_count": 9,
     "metadata": {},
     "output_type": "execute_result"
    }
   ],
   "source": [
    "print(f\"Input type: {type(x_train)}\")\n",
    "print(f\"Input keys: {x_train.keys()}\")\n",
    "x_train"
   ]
  },
  {
   "cell_type": "code",
   "execution_count": 8,
   "metadata": {},
   "outputs": [],
   "source": [
    "class TranscriptionDataset(torch.utils.data.Dataset):\n",
    "    def __init__(self, encodings):\n",
    "        self.encodings = encodings\n",
    "\n",
    "    def __getitem__(self, idx):\n",
    "        return {key: val[idx].clone().detach() for key, val in self.encodings.items()}\n",
    "\n",
    "    def __len__(self):\n",
    "        return len(self.encodings.input_ids)\n"
   ]
  },
  {
   "attachments": {},
   "cell_type": "markdown",
   "metadata": {},
   "source": [
    "Crucial thing to note here is that the output of our dataset must conform to what is expected by the BERT model. This needs to be taken into account especially when using the Hugging Face ``Trainer`` to train the model. From the documentation of the [BertFormMaskedLM.forward](https://huggingface.co/transformers/v3.0.2/model_doc/bert.html#transformers.BertForMaskedLM.forward) we can see that the model expects _at least_ the following arguments:\n",
    " - ``input_ids`` of shape ``[batch, sequence_length]`` (required)\n",
    " - ``attention`` of shape ``[batch, sequence_length]`` (optional)\n",
    " - ``token_type_ids`` of shape ``[batch, sequence_length]`` (optional)\n",
    " - ``labels`` of shape ``[batch, sequence_length]`` (optional)\n",
    "\n",
    "For the last one, ``labels``, the ``BertForMaskedLM`` model expects per-token labels. For MLM task we can use the labels as we have defined them here."
   ]
  },
  {
   "attachments": {},
   "cell_type": "markdown",
   "metadata": {},
   "source": [
    "Let's take a look at what our dataset actually produces."
   ]
  },
  {
   "cell_type": "code",
   "execution_count": 18,
   "metadata": {},
   "outputs": [
    {
     "name": "stdout",
     "output_type": "stream",
     "text": [
      "Output type: <class 'dict'>\n",
      "Output keys: dict_keys(['input_ids', 'token_type_ids', 'attention_mask', 'labels'])\n"
     ]
    },
    {
     "data": {
      "text/plain": [
       "{'input_ids': tensor([  101,  3653, 25918,  8082, 11616,  1015, 19470, 21183, 24226,  9524,\n",
       "          1016,   103, 24226, 10882, 12618,  3593,  2695, 25918,  8082, 11616,\n",
       "           103,   103, 21183,   103,  9524,  1016, 21183, 24226,   103, 12618,\n",
       "           103,  3169,  2864,  5001, 10464, 24895,  7197, 12436, 24965,  1044,\n",
       "         27268,  7869,  6593, 16940,  2019, 25344,   103,  2203,  4140, 22648,\n",
       "         20192,  2140,  2019, 25344,  6412,  7709, 11706,  2236,  2203,   103,\n",
       "         22648, 20192,  2140,   103, 25344,  5776,  2872,   103,  5507, 12326,\n",
       "           103,  2597, 17463,  5669, 15098,  5156,  5450,  5001, 10464, 24895,\n",
       "          7709,   103, 25100,  2872,   103, 20876,  2309, 11868,  2702,  6305,\n",
       "         25100, 12550, 10616,   103,  5423, 21183, 24226,  8292,   103,   103,\n",
       "          2595,   103, 21608,  5015,  2184,  1019,  4642,  2184, 19379,  2072,\n",
       "          2064, 11231,   103, 12550,  4987, 21183, 24226, 16924,  2309,   103,\n",
       "          2702,   103, 25100, 28699, 25100,  3718, 12436, 20876,  2051,  1999,\n",
       "           103, 25438, 18622,  9289,  2181, 19737,  1014,  2423,  7871,   103,\n",
       "           103,  3170,   103, 11467,   103,   103, 25438, 18622,  9289,  7471,\n",
       "          3096,  4297, 19969,  2081,  2310,   103, 12201, 12889, 21419, 17790,\n",
       "          2004, 16781,  4997,  3568, 13878, 16021, 16093, 10258,  4383,  6351,\n",
       "         14384, 11706, 16021, 16093, 10258,  3370,   103,   103,   103,  3718,\n",
       "          2340,   103,   103, 25879,  2953, 19817, 24755,  2099,   103,  1999,\n",
       "           103, 25438, 18622,  9289,  4297, 19969, 21419, 17790, 19817, 24755,\n",
       "          2099, 21867,  5001, 10464, 26127, 12889, 11706,  5107,  3989, 21877,\n",
       "          2140,  7903,   103,  3264,  2051, 10514, 18098,  9331, 12083,  2594,\n",
       "          2181, 19737,   103,  2423,   103, 18175,  4958,  3170,  8458, 11467,\n",
       "          1019,  3461,   103,  4297, 19969,  2081,  1019,   103, 19817, 24755,\n",
       "           103,  3107, 21419, 17790, 16015,  9312,   103, 28530,   103,   103,\n",
       "         21608,  3621, 11792, 12052,  2991,  7361,  2937,  7270,  3130,  7153,\n",
       "         11707,  2135,  1051, 21639,  2596,  3671, 17758,   103, 12731,   103,\n",
       "          2139, 17266,  4550,  2302,  3350,   103,  8462,   103, 12650, 11228,\n",
       "          4892,  4748, 21471,   103, 15141,  3264,  2784, 21877, 28530,  2051,\n",
       "          2157,  9781,   103, 15517,  2157,  2991,  7361,  2937,  7270,   103,\n",
       "         10624,  7103,  6862, 25641,  2461,   103,   103,   103,  2135, 28155,\n",
       "           103,  4383, 29398, 16175,  3540, 19901,  2100,  9099, 22471,  2098,\n",
       "          2302,  7669,  6893, 21183, 24226,   103, 15099, 15219,  7053,  5041,\n",
       "         25641,  2092,  7185, 25641, 28155, 24848,   103,  9099,   103,  2098,\n",
       "          7642,  4827,   103, 21183, 24226, 16749, 21183, 24226, 16749,  4453,\n",
       "          2079, 12083,  2135,   103, 24848,  4383, 29398, 16175,  3540, 19901,\n",
       "          2100,  9099, 22471,  2098,  2714,   103,   103,  2187,  2187, 21183,\n",
       "           103,  9781,  2226,  4453,   103,   103,   103,  2937,  7270,   103,\n",
       "         10624,  7103,  6862, 25641,  2461, 25641,  2079, 12083,  2135, 28155,\n",
       "         24848,   103, 29398, 16175,  3540, 19901,  2100,  9099,   103,  2098,\n",
       "          6893,  7185, 25641, 21183,   103,  6258,   103,   103, 21867,  5041,\n",
       "         25641,   103, 24848,  4383,   103, 22471,  2098,  7642,  5450,  2504,\n",
       "         21183, 24226, 16749, 21183, 24226,   103,  4453,  2079, 12083,  2135,\n",
       "         28155,   103,  4383, 29398, 16175,  3540, 19901,  2100,  9099, 22471,\n",
       "          2098, 15099,  7053,  5041, 25641,  4487, 11393, 10985,  3054,  4179,\n",
       "         17758,  2135,  7411, 24176, 20916,  5257, 14969,  4629,  4487,   103,\n",
       "          7542,  2051,  3086,  2081, 12436, 24965,  1044,   103,  7869,  6593,\n",
       "         16940,  5001, 10464, 26127,  3718,  3086,  2081, 12436, 24965,  1044,\n",
       "         27268,  7869,   103,   103, 19379,  2072,  2064, 11231,  2721,  3718,\n",
       "           103, 15219,  7053,  8292,  2099,  5737,   103, 15517,  2474, 14844,\n",
       "          2702,  6305, 25100,   103,   103,  2819,  7512, 24271, 13341,  1014,\n",
       "           103,   102]),\n",
       " 'token_type_ids': tensor([0, 0, 0, 0, 0, 0, 0, 0, 0, 0, 0, 0, 0, 0, 0, 0, 0, 0, 0, 0, 0, 0, 0, 0,\n",
       "         0, 0, 0, 0, 0, 0, 0, 0, 0, 0, 0, 0, 0, 0, 0, 0, 0, 0, 0, 0, 0, 0, 0, 0,\n",
       "         0, 0, 0, 0, 0, 0, 0, 0, 0, 0, 0, 0, 0, 0, 0, 0, 0, 0, 0, 0, 0, 0, 0, 0,\n",
       "         0, 0, 0, 0, 0, 0, 0, 0, 0, 0, 0, 0, 0, 0, 0, 0, 0, 0, 0, 0, 0, 0, 0, 0,\n",
       "         0, 0, 0, 0, 0, 0, 0, 0, 0, 0, 0, 0, 0, 0, 0, 0, 0, 0, 0, 0, 0, 0, 0, 0,\n",
       "         0, 0, 0, 0, 0, 0, 0, 0, 0, 0, 0, 0, 0, 0, 0, 0, 0, 0, 0, 0, 0, 0, 0, 0,\n",
       "         0, 0, 0, 0, 0, 0, 0, 0, 0, 0, 0, 0, 0, 0, 0, 0, 0, 0, 0, 0, 0, 0, 0, 0,\n",
       "         0, 0, 0, 0, 0, 0, 0, 0, 0, 0, 0, 0, 0, 0, 0, 0, 0, 0, 0, 0, 0, 0, 0, 0,\n",
       "         0, 0, 0, 0, 0, 0, 0, 0, 0, 0, 0, 0, 0, 0, 0, 0, 0, 0, 0, 0, 0, 0, 0, 0,\n",
       "         0, 0, 0, 0, 0, 0, 0, 0, 0, 0, 0, 0, 0, 0, 0, 0, 0, 0, 0, 0, 0, 0, 0, 0,\n",
       "         0, 0, 0, 0, 0, 0, 0, 0, 0, 0, 0, 0, 0, 0, 0, 0, 0, 0, 0, 0, 0, 0, 0, 0,\n",
       "         0, 0, 0, 0, 0, 0, 0, 0, 0, 0, 0, 0, 0, 0, 0, 0, 0, 0, 0, 0, 0, 0, 0, 0,\n",
       "         0, 0, 0, 0, 0, 0, 0, 0, 0, 0, 0, 0, 0, 0, 0, 0, 0, 0, 0, 0, 0, 0, 0, 0,\n",
       "         0, 0, 0, 0, 0, 0, 0, 0, 0, 0, 0, 0, 0, 0, 0, 0, 0, 0, 0, 0, 0, 0, 0, 0,\n",
       "         0, 0, 0, 0, 0, 0, 0, 0, 0, 0, 0, 0, 0, 0, 0, 0, 0, 0, 0, 0, 0, 0, 0, 0,\n",
       "         0, 0, 0, 0, 0, 0, 0, 0, 0, 0, 0, 0, 0, 0, 0, 0, 0, 0, 0, 0, 0, 0, 0, 0,\n",
       "         0, 0, 0, 0, 0, 0, 0, 0, 0, 0, 0, 0, 0, 0, 0, 0, 0, 0, 0, 0, 0, 0, 0, 0,\n",
       "         0, 0, 0, 0, 0, 0, 0, 0, 0, 0, 0, 0, 0, 0, 0, 0, 0, 0, 0, 0, 0, 0, 0, 0,\n",
       "         0, 0, 0, 0, 0, 0, 0, 0, 0, 0, 0, 0, 0, 0, 0, 0, 0, 0, 0, 0, 0, 0, 0, 0,\n",
       "         0, 0, 0, 0, 0, 0, 0, 0, 0, 0, 0, 0, 0, 0, 0, 0, 0, 0, 0, 0, 0, 0, 0, 0,\n",
       "         0, 0, 0, 0, 0, 0, 0, 0, 0, 0, 0, 0, 0, 0, 0, 0, 0, 0, 0, 0, 0, 0, 0, 0,\n",
       "         0, 0, 0, 0, 0, 0, 0, 0]),\n",
       " 'attention_mask': tensor([1, 1, 1, 1, 1, 1, 1, 1, 1, 1, 1, 1, 1, 1, 1, 1, 1, 1, 1, 1, 1, 1, 1, 1,\n",
       "         1, 1, 1, 1, 1, 1, 1, 1, 1, 1, 1, 1, 1, 1, 1, 1, 1, 1, 1, 1, 1, 1, 1, 1,\n",
       "         1, 1, 1, 1, 1, 1, 1, 1, 1, 1, 1, 1, 1, 1, 1, 1, 1, 1, 1, 1, 1, 1, 1, 1,\n",
       "         1, 1, 1, 1, 1, 1, 1, 1, 1, 1, 1, 1, 1, 1, 1, 1, 1, 1, 1, 1, 1, 1, 1, 1,\n",
       "         1, 1, 1, 1, 1, 1, 1, 1, 1, 1, 1, 1, 1, 1, 1, 1, 1, 1, 1, 1, 1, 1, 1, 1,\n",
       "         1, 1, 1, 1, 1, 1, 1, 1, 1, 1, 1, 1, 1, 1, 1, 1, 1, 1, 1, 1, 1, 1, 1, 1,\n",
       "         1, 1, 1, 1, 1, 1, 1, 1, 1, 1, 1, 1, 1, 1, 1, 1, 1, 1, 1, 1, 1, 1, 1, 1,\n",
       "         1, 1, 1, 1, 1, 1, 1, 1, 1, 1, 1, 1, 1, 1, 1, 1, 1, 1, 1, 1, 1, 1, 1, 1,\n",
       "         1, 1, 1, 1, 1, 1, 1, 1, 1, 1, 1, 1, 1, 1, 1, 1, 1, 1, 1, 1, 1, 1, 1, 1,\n",
       "         1, 1, 1, 1, 1, 1, 1, 1, 1, 1, 1, 1, 1, 1, 1, 1, 1, 1, 1, 1, 1, 1, 1, 1,\n",
       "         1, 1, 1, 1, 1, 1, 1, 1, 1, 1, 1, 1, 1, 1, 1, 1, 1, 1, 1, 1, 1, 1, 1, 1,\n",
       "         1, 1, 1, 1, 1, 1, 1, 1, 1, 1, 1, 1, 1, 1, 1, 1, 1, 1, 1, 1, 1, 1, 1, 1,\n",
       "         1, 1, 1, 1, 1, 1, 1, 1, 1, 1, 1, 1, 1, 1, 1, 1, 1, 1, 1, 1, 1, 1, 1, 1,\n",
       "         1, 1, 1, 1, 1, 1, 1, 1, 1, 1, 1, 1, 1, 1, 1, 1, 1, 1, 1, 1, 1, 1, 1, 1,\n",
       "         1, 1, 1, 1, 1, 1, 1, 1, 1, 1, 1, 1, 1, 1, 1, 1, 1, 1, 1, 1, 1, 1, 1, 1,\n",
       "         1, 1, 1, 1, 1, 1, 1, 1, 1, 1, 1, 1, 1, 1, 1, 1, 1, 1, 1, 1, 1, 1, 1, 1,\n",
       "         1, 1, 1, 1, 1, 1, 1, 1, 1, 1, 1, 1, 1, 1, 1, 1, 1, 1, 1, 1, 1, 1, 1, 1,\n",
       "         1, 1, 1, 1, 1, 1, 1, 1, 1, 1, 1, 1, 1, 1, 1, 1, 1, 1, 1, 1, 1, 1, 1, 1,\n",
       "         1, 1, 1, 1, 1, 1, 1, 1, 1, 1, 1, 1, 1, 1, 1, 1, 1, 1, 1, 1, 1, 1, 1, 1,\n",
       "         1, 1, 1, 1, 1, 1, 1, 1, 1, 1, 1, 1, 1, 1, 1, 1, 1, 1, 1, 1, 1, 1, 1, 1,\n",
       "         1, 1, 1, 1, 1, 1, 1, 1, 1, 1, 1, 1, 1, 1, 1, 1, 1, 1, 1, 1, 1, 1, 1, 1,\n",
       "         1, 1, 1, 1, 1, 1, 1, 1]),\n",
       " 'labels': tensor([  101,  3653, 25918,  8082, 11616,  1015, 19470, 21183, 24226,  9524,\n",
       "          1016, 21183, 24226, 10882, 12618,  3593,  2695, 25918,  8082, 11616,\n",
       "          1015, 19470, 21183, 24226,  9524,  1016, 21183, 24226, 10882, 12618,\n",
       "          3593,  3169,  2864,  5001, 10464, 24895,  7197, 12436, 24965,  1044,\n",
       "         27268,  7869,  6593, 16940,  2019, 25344,  2236,  2203,  4140, 22648,\n",
       "         20192,  2140,  2019, 25344,  6412,  7709, 11706,  2236,  2203,  4140,\n",
       "         22648, 20192,  2140,  2019, 25344,  5776,  2872, 12759,  5507, 12326,\n",
       "         16940,  2597, 17463,  5669, 15098,  5156,  5450,  5001, 10464, 24895,\n",
       "          7709, 28699, 25100,  2872, 12436, 20876,  2309, 11868,  2702,  6305,\n",
       "         25100, 12550, 10616, 15099,  5423, 21183, 24226,  8292,  2099,  5737,\n",
       "          2595, 21183, 21608,  5015,  2184,  1019,  4642,  2184, 19379,  2072,\n",
       "          2064, 11231,  2721, 12550,  4987, 21183, 24226, 16924,  2309, 11868,\n",
       "          2702,  6305, 25100, 28699, 25100,  3718, 12436, 20876,  2051,  1999,\n",
       "         27843, 25438, 18622,  9289,  2181, 19737,  1014,  2423,  7871, 18175,\n",
       "          4958,  3170,  8458, 11467,  1999, 27843, 25438, 18622,  9289,  7471,\n",
       "          3096,  4297, 19969,  2081,  2310,  8303, 12201, 12889, 21419, 17790,\n",
       "          2004, 16781,  4997,  3568, 13878, 16021, 16093, 10258,  4383,  6351,\n",
       "         14384, 11706, 16021, 16093, 10258,  3370,  2310,  8303, 12201,  3718,\n",
       "          2340,  3461, 19802, 25879,  2953, 19817, 24755,  2099,  3107,  1999,\n",
       "         27843, 25438, 18622,  9289,  4297, 19969, 21419, 17790, 19817, 24755,\n",
       "          2099, 21867,  5001, 10464, 26127, 12889, 11706,  5107,  3989, 21877,\n",
       "          2140,  7903,  3252,  3264,  2051, 10514, 18098,  9331, 12083,  2594,\n",
       "          2181, 19737,  1014,  2423,  7871, 18175,  4958,  3170,  8458, 11467,\n",
       "          1019,  3461,  3096,  4297, 19969,  2081,  1019,  3461, 19817, 24755,\n",
       "          2099,  3107, 21419, 17790, 16015,  9312, 21877, 28530,  3936, 21183,\n",
       "         21608,  3621, 11792, 12052,  2991,  7361,  2937,  7270,  3130,  7153,\n",
       "         11707,  2135,  1051, 21639,  2596,  3671, 17758,  2135, 12731,  2140,\n",
       "          2139, 17266,  4550,  2302,  3350,  2203,  8462, 18886, 12650, 11228,\n",
       "          4892,  4748, 21471, 24471, 15141,  3264,  2784, 21877, 28530,  2051,\n",
       "          2157,  9781,  2226, 15517,  2157,  2991,  7361,  2937,  7270, 21183,\n",
       "         10624,  7103,  6862, 25641,  2461, 25641,  2079, 12083,  2135, 28155,\n",
       "         24848,  4383, 29398, 16175,  3540, 19901,  2100,  9099, 22471,  2098,\n",
       "          2302,  7669,  6893, 21183, 24226,  6258, 15099, 15219,  7053,  5041,\n",
       "         25641,  2092,  7185, 25641, 28155, 24848,  4383,  9099, 22471,  2098,\n",
       "          7642,  4827,  2504, 21183, 24226, 16749, 21183, 24226, 16749,  4453,\n",
       "          2079, 12083,  2135, 28155, 24848,  4383, 29398, 16175,  3540, 19901,\n",
       "          2100,  9099, 22471,  2098,  2714,  7709,  3344,  2187,  2187, 21183,\n",
       "         24226,  9781,  2226,  4453,  2187,  2991,  7361,  2937,  7270, 21183,\n",
       "         10624,  7103,  6862, 25641,  2461, 25641,  2079, 12083,  2135, 28155,\n",
       "         24848,  4383, 29398, 16175,  3540, 19901,  2100,  9099, 22471,  2098,\n",
       "          6893,  7185, 25641, 21183, 24226,  6258, 15099, 15219, 21867,  5041,\n",
       "         25641, 28155, 24848,  4383,  9099, 22471,  2098,  7642,  5450,  2504,\n",
       "         21183, 24226, 16749, 21183, 24226, 16749,  4453,  2079, 12083,  2135,\n",
       "         28155, 24848,  4383, 29398, 16175,  3540, 19901,  2100,  9099, 22471,\n",
       "          2098, 15099,  7053,  5041, 25641,  4487, 11393, 10985,  3054,  4179,\n",
       "         17758,  2135,  7411, 24176, 20916,  5257, 14969,  4629,  4487, 11393,\n",
       "          7542,  2051,  3086,  2081, 12436, 24965,  1044, 27268,  7869,  6593,\n",
       "         16940,  5001, 10464, 26127,  3718,  3086,  2081, 12436, 24965,  1044,\n",
       "         27268,  7869,  6593, 16940, 19379,  2072,  2064, 11231,  2721,  3718,\n",
       "         15099, 15219,  7053,  8292,  2099,  5737,  2595, 15517,  2474, 14844,\n",
       "          2702,  6305, 25100, 25022, 11890,  2819,  7512, 24271, 13341,  1014,\n",
       "          2423,   102])}"
      ]
     },
     "execution_count": 18,
     "metadata": {},
     "output_type": "execute_result"
    }
   ],
   "source": [
    "dataset = TranscriptionDataset(x_train)\n",
    "sample = dataset[0]\n",
    "print(f\"Output type: {type(sample)}\")\n",
    "print(f\"Output keys: {sample.keys()}\")\n",
    "sample"
   ]
  },
  {
   "attachments": {},
   "cell_type": "markdown",
   "metadata": {},
   "source": [
    "Finally, we set up the training process for the fine-tuned BERT model using the Hugging Face Transformers library. We start by creating a ``TranscriptionDataset`` object using the ``x_train`` dictionary of encoded sequence data and corresponding labels.\n",
    "\n",
    "Next, we define the training arguments for the ``Trainer`` object using the ``TrainingArguments`` class. We specify the output directory for the trained model, the batch size for training, and the number of training epochs to run.\n",
    "\n",
    "Finally, we create a ``Trainer`` object using the pre-trained BERT model, the training arguments, and the ``TranscriptionDataset`` object. We then call the ``train()`` method of the ``Trainer`` object to start the training process, which fine-tunes the BERT model on our preprocessed medical text data.\n",
    "\n",
    "Once the training is complete, we save the fine-tuned model using the ``save_model()`` method of the ``Trainer`` object, which saves the trained model to the specified output directory. This fine-tuned model can then be used for a range of NLP tasks, including text classification, sentiment analysis, and text generation."
   ]
  },
  {
   "cell_type": "code",
   "execution_count": 9,
   "metadata": {},
   "outputs": [
    {
     "name": "stderr",
     "output_type": "stream",
     "text": [
      "/home/grimfada/miniconda3/envs/transformers-seminar-workshop/lib/python3.9/site-packages/transformers/optimization.py:306: FutureWarning: This implementation of AdamW is deprecated and will be removed in a future version. Use the PyTorch implementation torch.optim.AdamW instead, or set `no_deprecation_warning=True` to disable this warning\n",
      "  warnings.warn(\n",
      "***** Running training *****\n",
      "  Num examples = 2290\n",
      "  Num Epochs = 8\n",
      "  Instantaneous batch size per device = 4\n",
      "  Total train batch size (w. parallel, distributed & accumulation) = 4\n",
      "  Gradient Accumulation steps = 1\n",
      "  Total optimization steps = 4584\n",
      "  Number of trainable parameters = 109514298\n"
     ]
    },
    {
     "data": {
      "text/html": [
       "\n",
       "    <div>\n",
       "      \n",
       "      <progress value='4584' max='4584' style='width:300px; height:20px; vertical-align: middle;'></progress>\n",
       "      [4584/4584 39:20, Epoch 8/8]\n",
       "    </div>\n",
       "    <table border=\"1\" class=\"dataframe\">\n",
       "  <thead>\n",
       " <tr style=\"text-align: left;\">\n",
       "      <th>Step</th>\n",
       "      <th>Training Loss</th>\n",
       "    </tr>\n",
       "  </thead>\n",
       "  <tbody>\n",
       "    <tr>\n",
       "      <td>500</td>\n",
       "      <td>0.495200</td>\n",
       "    </tr>\n",
       "    <tr>\n",
       "      <td>1000</td>\n",
       "      <td>0.293800</td>\n",
       "    </tr>\n",
       "    <tr>\n",
       "      <td>1500</td>\n",
       "      <td>0.237200</td>\n",
       "    </tr>\n",
       "    <tr>\n",
       "      <td>2000</td>\n",
       "      <td>0.190200</td>\n",
       "    </tr>\n",
       "    <tr>\n",
       "      <td>2500</td>\n",
       "      <td>0.161600</td>\n",
       "    </tr>\n",
       "    <tr>\n",
       "      <td>3000</td>\n",
       "      <td>0.128800</td>\n",
       "    </tr>\n",
       "    <tr>\n",
       "      <td>3500</td>\n",
       "      <td>0.108200</td>\n",
       "    </tr>\n",
       "    <tr>\n",
       "      <td>4000</td>\n",
       "      <td>0.090400</td>\n",
       "    </tr>\n",
       "    <tr>\n",
       "      <td>4500</td>\n",
       "      <td>0.077800</td>\n",
       "    </tr>\n",
       "  </tbody>\n",
       "</table><p>"
      ],
      "text/plain": [
       "<IPython.core.display.HTML object>"
      ]
     },
     "metadata": {},
     "output_type": "display_data"
    },
    {
     "name": "stderr",
     "output_type": "stream",
     "text": [
      "Saving model checkpoint to out/checkpoint-500\n",
      "Configuration saved in out/checkpoint-500/config.json\n",
      "Model weights saved in out/checkpoint-500/pytorch_model.bin\n",
      "Saving model checkpoint to out/checkpoint-1000\n",
      "Configuration saved in out/checkpoint-1000/config.json\n",
      "Model weights saved in out/checkpoint-1000/pytorch_model.bin\n",
      "Saving model checkpoint to out/checkpoint-1500\n",
      "Configuration saved in out/checkpoint-1500/config.json\n",
      "Model weights saved in out/checkpoint-1500/pytorch_model.bin\n",
      "Saving model checkpoint to out/checkpoint-2000\n",
      "Saving model checkpoint to out/checkpoint-2000\n",
      "Configuration saved in out/checkpoint-2000/config.json\n",
      "Model weights saved in out/checkpoint-2000/pytorch_model.bin\n",
      "Saving model checkpoint to out/checkpoint-2500\n",
      "Configuration saved in out/checkpoint-2500/config.json\n",
      "Model weights saved in out/checkpoint-2500/pytorch_model.bin\n",
      "Saving model checkpoint to out/checkpoint-3000\n",
      "Configuration saved in out/checkpoint-3000/config.json\n",
      "Model weights saved in out/checkpoint-3000/pytorch_model.bin\n",
      "Saving model checkpoint to out/checkpoint-3500\n",
      "Configuration saved in out/checkpoint-3500/config.json\n",
      "Model weights saved in out/checkpoint-3500/pytorch_model.bin\n",
      "Saving model checkpoint to out/checkpoint-4000\n",
      "Configuration saved in out/checkpoint-4000/config.json\n",
      "Model weights saved in out/checkpoint-4000/pytorch_model.bin\n",
      "Saving model checkpoint to out/checkpoint-4500\n",
      "Saving model checkpoint to out/checkpoint-4500\n",
      "Configuration saved in out/checkpoint-4500/config.json\n",
      "Model weights saved in out/checkpoint-4500/pytorch_model.bin\n",
      "\n",
      "\n",
      "Training completed. Do not forget to share your model on huggingface.co/models =)\n",
      "\n",
      "\n",
      "\n",
      "\n",
      "Training completed. Do not forget to share your model on huggingface.co/models =)\n",
      "\n",
      "\n"
     ]
    },
    {
     "data": {
      "text/plain": [
       "TrainOutput(global_step=4584, training_loss=0.19594868201027782, metrics={'train_runtime': 2361.9143, 'train_samples_per_second': 7.756, 'train_steps_per_second': 1.941, 'total_flos': 4821912170496000.0, 'train_loss': 0.19594868201027782, 'epoch': 8.0})"
      ]
     },
     "execution_count": 9,
     "metadata": {},
     "output_type": "execute_result"
    }
   ],
   "source": [
    "from transformers import TrainingArguments, Trainer\n",
    "\n",
    "dataset = TranscriptionDataset(x_train)\n",
    "args = TrainingArguments(\n",
    "    output_dir=\"out\",\n",
    "    per_device_train_batch_size=4,\n",
    "    num_train_epochs=8,\n",
    ")\n",
    "trainer = Trainer(model=model, args=args, train_dataset=dataset)\n",
    "trainer.train()\n",
    "trainer.save_model(output_dir=\"../../model/bert-base-uncased-finetuned\")\n"
   ]
  }
 ],
 "metadata": {
  "kernelspec": {
   "display_name": "transformers-seminar-workshop",
   "language": "python",
   "name": "python3"
  },
  "language_info": {
   "codemirror_mode": {
    "name": "ipython",
    "version": 3
   },
   "file_extension": ".py",
   "mimetype": "text/x-python",
   "name": "python",
   "nbconvert_exporter": "python",
   "pygments_lexer": "ipython3",
   "version": "3.9.16"
  },
  "orig_nbformat": 4
 },
 "nbformat": 4,
 "nbformat_minor": 2
}
